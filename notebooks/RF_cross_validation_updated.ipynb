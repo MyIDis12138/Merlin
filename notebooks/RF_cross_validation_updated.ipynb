{
 "cells": [
  {
   "cell_type": "code",
   "execution_count": 27,
   "id": "335256f6",
   "metadata": {},
   "outputs": [],
   "source": [
    "import numpy as np\n",
    "import pandas as pd\n",
    "from sklearn.svm import SVC\n",
    "from sklearn import metrics\n",
    "import matplotlib.pyplot as plt\n",
    "from sklearn.metrics import f1_score\n",
    "from sklearn.metrics import accuracy_score\n",
    "from sklearn.metrics import confusion_matrix\n",
    "from sklearn.ensemble import RandomForestClassifier\n",
    "\n",
    "import warnings\n",
    "warnings.filterwarnings(\"ignore\")"
   ]
  },
  {
   "cell_type": "code",
   "execution_count": 28,
   "id": "32d20b2d",
   "metadata": {},
   "outputs": [
    {
     "name": "stdout",
     "output_type": "stream",
     "text": [
      "0\n",
      "1\n",
      "2\n",
      "3\n",
      "4\n"
     ]
    }
   ],
   "source": [
    "# Load training data (one patient at a time)\n",
    "num_folds = 5\n",
    "X_train = [[] for x in range(num_folds)] # make list of arrays to hold X data for each cell\n",
    "X_validation = [[] for x in range(num_folds)] # make list of arrays to hold X data for each cell\n",
    "y_train = [[] for x in range(num_folds)] # make list of arrays to hold X data for each cell\n",
    "y_validation = [[] for x in range(num_folds)] # make list of arrays to hold X data for each cell\n",
    "\n",
    "X_test = pd.read_csv('external_test_new_data.csv')\n",
    "y_test = pd.read_csv('external_test_new_label.csv')\n",
    "X_test['Tumor Location'] = X_test['Tumor Location'].astype('category')\n",
    "X_test['Tumor Location'] = X_test['Tumor Location'].cat.codes\n",
    "X_test['Position'] = X_test['Position'].astype('category')\n",
    "X_test['Position'] = X_test['Position'].cat.codes\n",
    "X_test['Side Annotated'] = X_test['Side Annotated'].astype('category')\n",
    "X_test['Side Annotated'] = X_test['Side Annotated'].cat.codes\n",
    "X_test['For Other Side If Bilateral'] = X_test['For Other Side If Bilateral'].astype('category')\n",
    "X_test['For Other Side If Bilateral'] = X_test['For Other Side If Bilateral'].cat.codes\n",
    "X_test['Calcifications'] = X_test['Calcifications'].astype('category')\n",
    "X_test['Calcifications'] = X_test['Calcifications'].cat.codes\n",
    "X_test['Shape'] = X_test['Shape'].astype('category')\n",
    "X_test['Shape'] = X_test['Shape'].cat.codes\n",
    "X_test.replace(['0 1', '1 1', '2.51.2', '2.90.9', '3.20.9', '\\n', '#REF!', '3.11.7', '0.81.2'], [10, 11, 2.512, 2.909, 3.209, 0, 0, 3.117, 0.812], inplace=True)\n",
    "X_test['Tumor Size cm'] = X_test['Tumor Size cm'].astype('category')\n",
    "X_test['Tumor Size cm'] = X_test['Tumor Size cm'].cat.codes\n",
    "X_test['Echogenicity'] = X_test['Echogenicity'].astype('category')\n",
    "X_test['Echogenicity'] = X_test['Echogenicity'].cat.codes\n",
    "X_test = np.array(X_test.drop(columns=['Patient ID']))\n",
    "y_test = np.array(y_test.drop(columns=['Patient ID']))\n",
    "\n",
    "for i in range(num_folds):\n",
    "    print(i)\n",
    "    X_filename =  'fold_'+str(i+1) + '_train_new_data' + '.csv'\n",
    "    y_filename = 'fold_'+str(i+1) + '_train_new_label' + '.csv'\n",
    "\n",
    "    X_train_temp = pd.read_csv(X_filename)\n",
    "    y_train_temp = pd.read_csv(y_filename)\n",
    "    X_train_temp['Tumor Location'] = X_train_temp['Tumor Location'].astype('category')\n",
    "    X_train_temp['Tumor Location'] = X_train_temp['Tumor Location'].cat.codes\n",
    "    X_train_temp['Position'] = X_train_temp['Position'].astype('category')\n",
    "    X_train_temp['Position'] = X_train_temp['Position'].cat.codes\n",
    "    X_train_temp['Side Annotated'] = X_train_temp['Side Annotated'].astype('category')\n",
    "    X_train_temp['Side Annotated'] = X_train_temp['Side Annotated'].cat.codes\n",
    "    X_train_temp['For Other Side If Bilateral'] = X_train_temp['For Other Side If Bilateral'].astype('category')\n",
    "    X_train_temp['For Other Side If Bilateral'] = X_train_temp['For Other Side If Bilateral'].cat.codes\n",
    "    X_train_temp['Calcifications'] = X_train_temp['Calcifications'].astype('category')\n",
    "    X_train_temp['Calcifications'] = X_train_temp['Calcifications'].cat.codes\n",
    "    X_train_temp['Shape'] = X_train_temp['Shape'].astype('category')\n",
    "    X_train_temp['Shape'] = X_train_temp['Shape'].cat.codes\n",
    "    X_train_temp.replace(['0 1', '1 1', '2.51.2', '2.90.9', '3.20.9', '\\n', '#REF!', '3.11.7', '0.81.2'], [10, 11, 2.512, 2.909, 3.209, 0, 0, 3.117, 0.812], inplace=True)\n",
    "    X_train_temp['Tumor Size cm'] = X_train_temp['Tumor Size cm'].astype('category')\n",
    "    X_train_temp['Tumor Size cm'] = X_train_temp['Tumor Size cm'].cat.codes\n",
    "    X_train_temp['Echogenicity'] = X_train_temp['Echogenicity'].astype('category')\n",
    "    X_train_temp['Echogenicity'] = X_train_temp['Echogenicity'].cat.codes\n",
    "    y_train_temp = np.array(y_train_temp.drop(columns=['Patient ID']))\n",
    "\n",
    "    \n",
    "    X_filename2 =  'fold_'+str(i+1) + '_test_new_data' + '.csv'\n",
    "    y_filename2 = 'fold_'+str(i+1) + '_test_new_label' + '.csv'\n",
    "\n",
    "    X_validation_temp = pd.read_csv(X_filename2)\n",
    "    y_validation_temp = pd.read_csv(y_filename2)\n",
    "    X_validation_temp['Tumor Location'] = X_validation_temp['Tumor Location'].astype('category')\n",
    "    X_validation_temp['Tumor Location'] = X_validation_temp['Tumor Location'].cat.codes\n",
    "    X_validation_temp['Position'] = X_validation_temp['Position'].astype('category')\n",
    "    X_validation_temp['Position'] = X_validation_temp['Position'].cat.codes\n",
    "    X_validation_temp['Side Annotated'] = X_validation_temp['Side Annotated'].astype('category')\n",
    "    X_validation_temp['Side Annotated'] = X_validation_temp['Side Annotated'].cat.codes\n",
    "    X_validation_temp['For Other Side If Bilateral'] = X_validation_temp['For Other Side If Bilateral'].astype('category')\n",
    "    X_validation_temp['For Other Side If Bilateral'] = X_validation_temp['For Other Side If Bilateral'].cat.codes\n",
    "    X_validation_temp['Calcifications'] = X_validation_temp['Calcifications'].astype('category')\n",
    "    X_validation_temp['Calcifications'] = X_validation_temp['Calcifications'].cat.codes\n",
    "    X_validation_temp['Shape'] = X_validation_temp['Shape'].astype('category')\n",
    "    X_validation_temp['Shape'] = X_validation_temp['Shape'].cat.codes\n",
    "    X_validation_temp.replace(['0 1', '1 1', '2.51.2', '2.90.9', '3.20.9', '\\n', '#REF!', '3.11.7', '0.81.2'], [10, 11, 2.512, 2.909, 3.209, 0, 0, 3.117, 0.812], inplace=True)\n",
    "    X_validation_temp['Tumor Size cm'] = X_validation_temp['Tumor Size cm'].astype('category')\n",
    "    X_validation_temp['Tumor Size cm'] = X_validation_temp['Tumor Size cm'].cat.codes\n",
    "    X_validation_temp['Echogenicity'] = X_validation_temp['Echogenicity'].astype('category')\n",
    "    X_validation_temp['Echogenicity'] = X_validation_temp['Echogenicity'].cat.codes\n",
    "    y_validation_temp = np.array(y_validation_temp.drop(columns=['Patient ID']))\n",
    "\n",
    "    \n",
    "    X_train[i] = X_train_temp\n",
    "    y_train[i] = y_train_temp\n",
    "    X_validation[i] = X_validation_temp\n",
    "    y_validation[i] = y_validation_temp"
   ]
  },
  {
   "cell_type": "markdown",
   "id": "cd3b0b7b",
   "metadata": {},
   "source": [
    "### Cell-level classification of normal and COVID using SVM and random forest"
   ]
  },
  {
   "cell_type": "code",
   "execution_count": 29,
   "id": "eb5c5b75",
   "metadata": {},
   "outputs": [
    {
     "name": "stdout",
     "output_type": "stream",
     "text": [
      "fold 1\n",
      "fold 2\n",
      "fold 3\n",
      "fold 4\n",
      "fold 5\n",
      "F1-score of cross validation of RF [0.8905994468293141, 0.8736133751306165, 0.901122677187586, 0.901122677187586, 0.9017888799355358]\n",
      "0.8936494112541278\n",
      "0.010850763884402537\n"
     ]
    }
   ],
   "source": [
    "index=[]\n",
    "SVM_f1_cv=[]\n",
    "rf_f1_cv=[]\n",
    "\n",
    "for i_temp in range(1, 76):\n",
    "    index.append(i_temp)\n",
    "    \n",
    "for i2 in range(num_folds):\n",
    "    print(\"fold \"+str(i2+1))\n",
    "    X_train_new = X_train[i2].iloc[:, index] # retain only the top n features in the data\n",
    "    X_validation_new = X_validation[i2].iloc[:, index] # retain only the top n features in the data\n",
    "    \n",
    "    clf_rf = RandomForestClassifier(n_estimators = 100)\n",
    "    clf_rf.fit(X_train_new, y_train[i2])\n",
    "    validation_pred_rf = clf_rf.predict(X_validation_new)\n",
    "    f1_rf = f1_score(y_validation[i2], validation_pred_rf, average='weighted')\n",
    "    rf_f1_cv.append(f1_rf)\n",
    "\n",
    "print(\"F1-score of cross validation of RF \"+str(rf_f1_cv))\n",
    "print(sum(rf_f1_cv)/len(rf_f1_cv))\n",
    "print(np.std(rf_f1_cv))"
   ]
  },
  {
   "cell_type": "code",
   "execution_count": 30,
   "id": "e536fdba-a0aa-406a-852f-c0b00ecdcc62",
   "metadata": {},
   "outputs": [
    {
     "name": "stdout",
     "output_type": "stream",
     "text": [
      "F1-score of random forest 0.8992031811106146\n",
      "confusion matrix of RF\n",
      "[[163   2]\n",
      " [ 13   4]]\n"
     ]
    }
   ],
   "source": [
    "test_pred_rf = clf_rf.predict(X_test)\n",
    "f1_rf = f1_score(y_test, test_pred_rf, average='weighted')\n",
    "y_pred_proba2 = clf_rf.predict_proba(X_test)[::,1]\n",
    "fpr2, tpr2, _ = metrics.roc_curve(y_test,  y_pred_proba2, pos_label=\"Normal\")\n",
    "auc2 = metrics.roc_auc_score(y_test, y_pred_proba2)\n",
    "print(\"F1-score of random forest \"+str(f1_rf))\n",
    "print(\"confusion matrix of RF\")\n",
    "print(confusion_matrix(y_test, test_pred_rf))"
   ]
  },
  {
   "cell_type": "code",
   "execution_count": null,
   "id": "588445d0",
   "metadata": {},
   "outputs": [],
   "source": []
  }
 ],
 "metadata": {
  "kernelspec": {
   "display_name": "Python 3 (ipykernel)",
   "language": "python",
   "name": "python3"
  },
  "language_info": {
   "codemirror_mode": {
    "name": "ipython",
    "version": 3
   },
   "file_extension": ".py",
   "mimetype": "text/x-python",
   "name": "python",
   "nbconvert_exporter": "python",
   "pygments_lexer": "ipython3",
   "version": "3.12.5"
  }
 },
 "nbformat": 4,
 "nbformat_minor": 5
}
